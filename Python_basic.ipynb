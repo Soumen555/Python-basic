{
  "nbformat": 4,
  "nbformat_minor": 0,
  "metadata": {
    "colab": {
      "provenance": []
    },
    "kernelspec": {
      "name": "python3",
      "display_name": "Python 3"
    },
    "language_info": {
      "name": "python"
    }
  },
  "cells": [
    {
      "cell_type": "markdown",
      "source": [
        "1. What is Python, and why is it popular?\n",
        "\n",
        "- Python is a high-level programming language used to write instructions that a computer can understand and execute.\n",
        "\n",
        " It is popular because -\n",
        "- It is **varsatile**.It can be used for web development,data analysis,machine learning, automation etc.\n",
        "- It has **massive community**, **libraries**.\n",
        "- It works on pretty much any operating system.\n",
        "- **Strong in-demand** fields like Data Science, AI, automation etc\n",
        "\n",
        "\n"
      ],
      "metadata": {
        "id": "TZVfkEgd1NPF"
      }
    },
    {
      "cell_type": "markdown",
      "source": [
        "2.What is an interpreter in Python?\n",
        "  - An interpreter in Python is the program that reads and runs your Python code line by line.When a piece code is written, the interpreter takes that code, translates it into machine code, and then runs it."
      ],
      "metadata": {
        "id": "Bvi-opwR3p6J"
      }
    },
    {
      "cell_type": "markdown",
      "source": [
        "3.What are pre-defined keywords in Python ?\n",
        "  - Pre-defined keywords in Python are the special words that are reserved by python language.They have a specific meaning and purpose.\n",
        "\n",
        "Example:\n",
        "if, else, elif -these keywords are used for decision making.\n",
        "for, while - these keywords are used for loops.\n",
        "def - this keyword is used to define a function.\n",
        "and, or, not - these keywords are known as logical operators."
      ],
      "metadata": {
        "id": "tNlii5Ob49b-"
      }
    },
    {
      "cell_type": "markdown",
      "source": [
        "4.Can keywords be used as variable names?\n",
        "- No, keywords can not be used as variable names in Python.Because keywords have special meanings in python language.They are used to do specific task in pyton.For example print() keyword is used to print something in python.\n",
        "\n"
      ],
      "metadata": {
        "id": "TPPPk_QT6cYB"
      }
    },
    {
      "cell_type": "markdown",
      "source": [
        "5. What is mutability in Python ?\n",
        "- Mutability in Python refers to whether an object can be changed or not after it's created.\n",
        "If an object can be changed, it is called mutable. And if it can not be changed, it is called immutable.\n",
        "\n",
        " For example list is mutable and tuple is immutable.\n",
        "\n"
      ],
      "metadata": {
        "id": "wL1bt5rJ7uhL"
      }
    },
    {
      "cell_type": "markdown",
      "source": [
        "6.Why are lists mutable, but tuples are immutable ?\n",
        "- Lists are mutable in python because lists are used to store sequences of elements that can be changed like adding, removing, or updating elements.\n",
        "\n",
        " Mutable objects are used for a dynamic collection in python.Being mutable makes them more flexible for tasks like sorting, updating values, or expanding/shrinking the list."
      ],
      "metadata": {
        "id": "E-6lirbG8myF"
      }
    },
    {
      "cell_type": "markdown",
      "source": [
        "7.What is the difference between “==” and “is” operators in Python ?\n",
        "- **\"==\" operator:**\n",
        " Checks if two objects have the same value. It compares the contents of the objects.\n",
        "\n",
        "  **\"is\" operator:** Checks if two objects are actually the same object in memory. It compares their identity, not their value."
      ],
      "metadata": {
        "id": "Hb-6eByc9zbT"
      }
    },
    {
      "cell_type": "markdown",
      "source": [
        "8.What are logical operators in Python ?\n",
        "- Logical operators in Python are used to combine conditional statements. They are used to make decisions by connecting multiple conditions.\n",
        "There are three main logical operators in python - And, Or, Not"
      ],
      "metadata": {
        "id": "oCTw-kWY_Hv1"
      }
    },
    {
      "cell_type": "markdown",
      "source": [
        "9.What is type casting in Python ?\n",
        "- Type casting in Python is the method to convert a value from one data type to another.\n",
        "For example:\n",
        "\n",
        " x = \"10\"   # \"10\" is stored as a string\n",
        "\n",
        " y = int(x)  # y becomes 10 (an integer)\n"
      ],
      "metadata": {
        "id": "X953CZnP_9j2"
      }
    },
    {
      "cell_type": "markdown",
      "source": [
        "10. What is the difference between implicit and explicit type casting ?\n",
        "- implicit type casting: Python automatically converts one data type to another without doing anything.\n",
        "\n",
        " For example;\n",
        "\n",
        " x = 5             # int\n",
        "\n",
        " y = 2.0           # float\n",
        "\n",
        " z = x + y    # x is automatically converted to float\n",
        "\n",
        " print(z)     # Output: 7.0 (float)\n",
        "\n",
        "- explicit type casting: In explicit type castig user manually convert a data type using functions like int(), float(), str().\n",
        "\n",
        "For example:\n",
        "\n",
        "x = \"123\".    # here 123 is a string.\n",
        "\n",
        "y = int(x)    # explicitly converted from string to integer.\n",
        "\n",
        "print(y + 1)  # Output: 124 which is a integer.\n"
      ],
      "metadata": {
        "id": "cvoczragBDXj"
      }
    },
    {
      "cell_type": "markdown",
      "source": [
        "11.What is the purpose of conditional statements in Python ?\n",
        "- Conditional statements in Python is used to make decisions in program and run different code depending on certain conditions.\n",
        "  \n",
        "  A conditional statement checks if something is true or false, and runs different blocks of code based on the result.\n",
        "  example: if, if-else, if-elif-else\n",
        "\n"
      ],
      "metadata": {
        "id": "72uPALgXCxkM"
      }
    },
    {
      "cell_type": "markdown",
      "source": [
        "12.How does the elif statement work ?\n",
        "- The elif statement in Python stands for “else if” . It is used when user want to check multiple conditions, one after another.\n",
        "\n",
        "First Python checks each if or elif from top to bottom. Then As soon as it finds one condition that is True, it runs that block of code and skips the rest. If none of the conditions are true, it runs the else block."
      ],
      "metadata": {
        "id": "KA3626wdEDfH"
      }
    },
    {
      "cell_type": "markdown",
      "source": [
        "13. What is the difference between for and while loops ?\n",
        "- **for loop:** It is used when programer know how many times to repeat\n",
        "iterates over a sequence (like a list, string, or range).\n",
        "\n",
        "**while loop:** It is used when programer repeat until a condition is become trur.If it is false it Keeps running as long as a condition is true."
      ],
      "metadata": {
        "id": "G1ZVJiSLEyDD"
      }
    },
    {
      "cell_type": "markdown",
      "source": [
        "14.Describe a scenario where a while loop is more suitable than a for loop.\n",
        "- Let’s say a kid is adding coins to a piggy bank. I want a program to keep asking for coin until the total reaches 10 or more.\n",
        "\n",
        "***CODE:***\n"
      ],
      "metadata": {
        "id": "vLYL0W5rGC59"
      }
    },
    {
      "cell_type": "code",
      "source": [
        "total = 0\n",
        "\n",
        "while total < 10:\n",
        "    coin = int(input(\"Add a coin (in whole numbers): \"))\n",
        "    total += coin\n",
        "    print(f\"Current total: {total}\")\n",
        "\n",
        "print(\"You’ve saved at least 10 coins!\")\n"
      ],
      "metadata": {
        "colab": {
          "base_uri": "https://localhost:8080/"
        },
        "id": "ZAFP6ZhOHmN8",
        "outputId": "b9b3fa00-63b5-4092-c472-4639b803ff6b"
      },
      "execution_count": 3,
      "outputs": [
        {
          "output_type": "stream",
          "name": "stdout",
          "text": [
            "Add a coin (in whole numbers): 4\n",
            "Current total: 4\n",
            "Add a coin (in whole numbers): 3\n",
            "Current total: 7\n",
            "Add a coin (in whole numbers): 3\n",
            "Current total: 10\n",
            "You’ve saved at least 10 coins!\n"
          ]
        }
      ]
    },
    {
      "cell_type": "markdown",
      "source": [
        "Here the number of coin entries is not fixed. I want the loop to run until the total reaches a certain amount. That is why in this scenario while loop is more suitable than a for loop.\n",
        "\n"
      ],
      "metadata": {
        "id": "nweyz9SZI4I-"
      }
    },
    {
      "cell_type": "markdown",
      "source": [
        "**Practical Questions**\n",
        "\n",
        "---\n"
      ],
      "metadata": {
        "id": "rixeLRWQJim6"
      }
    },
    {
      "cell_type": "code",
      "source": [
        "#Q1. Write a Python program to print \"Hello, World!\n",
        "\n",
        "print(\"Hello World\")"
      ],
      "metadata": {
        "colab": {
          "base_uri": "https://localhost:8080/"
        },
        "id": "eaMMjJ6rJiOr",
        "outputId": "8af55d98-8b5b-4cf0-ff61-5e6de535da5e"
      },
      "execution_count": 4,
      "outputs": [
        {
          "output_type": "stream",
          "name": "stdout",
          "text": [
            "Hello World\n"
          ]
        }
      ]
    },
    {
      "cell_type": "code",
      "source": [
        "#Q2. Write a Python program that displays your name and age\n",
        "\n",
        "print(\"My Name is Soumen Rakshit\")\n",
        "print(\"My age is: 26\")"
      ],
      "metadata": {
        "colab": {
          "base_uri": "https://localhost:8080/"
        },
        "id": "-vuaxgkwHyhe",
        "outputId": "c80ecbd5-7677-40be-f0a2-b8b796652397"
      },
      "execution_count": 5,
      "outputs": [
        {
          "output_type": "stream",
          "name": "stdout",
          "text": [
            "My Name is Soumen Rakshit\n",
            "My age is: 26\n"
          ]
        }
      ]
    },
    {
      "cell_type": "code",
      "source": [
        "#Q3. Write code to print all the pre-defined keywords in Python using the keyword library\n",
        "\n",
        "import keyword\n",
        "for i in keyword.kwlist:\n",
        "    print(i)\n"
      ],
      "metadata": {
        "colab": {
          "base_uri": "https://localhost:8080/"
        },
        "id": "-OW7UjUIKSGU",
        "outputId": "da9fa2c8-b94c-4116-d77d-5e2c7b4410fe"
      },
      "execution_count": 17,
      "outputs": [
        {
          "output_type": "stream",
          "name": "stdout",
          "text": [
            "False\n",
            "None\n",
            "True\n",
            "and\n",
            "as\n",
            "assert\n",
            "async\n",
            "await\n",
            "break\n",
            "class\n",
            "continue\n",
            "def\n",
            "del\n",
            "elif\n",
            "else\n",
            "except\n",
            "finally\n",
            "for\n",
            "from\n",
            "global\n",
            "if\n",
            "import\n",
            "in\n",
            "is\n",
            "lambda\n",
            "nonlocal\n",
            "not\n",
            "or\n",
            "pass\n",
            "raise\n",
            "return\n",
            "try\n",
            "while\n",
            "with\n",
            "yield\n"
          ]
        }
      ]
    },
    {
      "cell_type": "code",
      "source": [
        "#Q4. Write a program that checks if a given word is a Python keyword.\n",
        "\n",
        "import keyword\n",
        "a = input(\"Enter a word: \")\n",
        "if keyword.iskeyword(a):\n",
        "    print(f\"'{a}' is a Python keyword.\")\n",
        "else:\n",
        "    print(f\"'{a}' is not a Python keyword.\")\n"
      ],
      "metadata": {
        "colab": {
          "base_uri": "https://localhost:8080/"
        },
        "id": "gi2XnBNgKzyO",
        "outputId": "b42161d6-9b6b-4625-a06c-da54468adfef"
      },
      "execution_count": 12,
      "outputs": [
        {
          "output_type": "stream",
          "name": "stdout",
          "text": [
            "Enter a word: hello\n",
            "'hello' is not a Python keyword.\n"
          ]
        }
      ]
    },
    {
      "cell_type": "code",
      "source": [
        "#Q5. Create a list and tuple in Python, and demonstrate how attempting to change an element works differently for each.\n",
        "\n",
        "lst = [10, 20, 30]\n",
        "lst[0] = 99            # This will change the 0th element of lst (list) i,e 10 to 99\n",
        "print(lst)\n",
        "\n",
        "tup = (10, 20, 30)\n",
        "tup[0] = 99            # This will throw an error because tuple is immutable\n",
        "print(my_tuple)\n"
      ],
      "metadata": {
        "colab": {
          "base_uri": "https://localhost:8080/"
        },
        "id": "ReIGaSkPLb6x",
        "outputId": "973a2b38-de3d-40db-aefd-8c0192e699bc"
      },
      "execution_count": 16,
      "outputs": [
        {
          "output_type": "stream",
          "name": "stdout",
          "text": [
            "[99, 20, 30]\n"
          ]
        }
      ]
    },
    {
      "cell_type": "code",
      "source": [
        "#Q7. Write a program that performs basic arithmetic operations on two user-input numbers\n",
        "\n",
        "num1 = int(input(\"Enter first number: \"))\n",
        "num2 = int(input(\"Enter second number: \"))\n",
        "a=num1 + num2\n",
        "s=num1 - num2\n",
        "m=num1 * num2\n",
        "d=num1 / num2\n",
        "\n",
        "print(\"Addition:\",a)\n",
        "print(\"Subtraction:\",s)\n",
        "print(\"Multiplication:\",m)\n",
        "print(\"Division:\",d)\n"
      ],
      "metadata": {
        "colab": {
          "base_uri": "https://localhost:8080/"
        },
        "id": "KGRbnxn4Ox1i",
        "outputId": "7943bec8-1ec1-4b76-9bfa-f4a4ffa00755"
      },
      "execution_count": 20,
      "outputs": [
        {
          "output_type": "stream",
          "name": "stdout",
          "text": [
            "Enter first number: 10\n",
            "Enter second number: 5\n",
            "Addition: 15\n",
            "Subtraction: 5\n",
            "Multiplication: 50\n",
            "Division: 2.0\n"
          ]
        }
      ]
    },
    {
      "cell_type": "code",
      "source": [
        "#Q8. Write a program to demonstrate the use of logical operators\n",
        "\n",
        "a = True\n",
        "b = False\n",
        "\n",
        "ad= a and b\n",
        "r= a or b\n",
        "nt= not a\n",
        "\n",
        "print(\"a and b:\",ad)\n",
        "print(\"a or b:\",r)\n",
        "print(\"not a:\",nt)\n"
      ],
      "metadata": {
        "colab": {
          "base_uri": "https://localhost:8080/"
        },
        "id": "dKaKt8VDPuHc",
        "outputId": "ed7b240e-d8b6-4afd-91dc-77f8be488727"
      },
      "execution_count": 22,
      "outputs": [
        {
          "output_type": "stream",
          "name": "stdout",
          "text": [
            "a and b: False\n",
            "a or b: True\n",
            "not a: False\n"
          ]
        }
      ]
    },
    {
      "cell_type": "code",
      "source": [
        "#Q9. Write a Python program to convert user input from string to integer, float, and boolean types.\n",
        "\n",
        "a = input(\"Enter a value: \")\n",
        "\n",
        "int_value = int(a)\n",
        "float_value = float(a)\n",
        "bool_value = bool(a)\n",
        "\n",
        "print(\"Integer:\", int_value)\n",
        "print(\"Float:\", float_value)\n",
        "print(\"Boolean:\", bool_value)\n"
      ],
      "metadata": {
        "colab": {
          "base_uri": "https://localhost:8080/"
        },
        "id": "qbgl-nRvQsog",
        "outputId": "9aa4acd4-3471-4c86-b82f-891c6b0be29b"
      },
      "execution_count": 25,
      "outputs": [
        {
          "output_type": "stream",
          "name": "stdout",
          "text": [
            "Enter a value: 5\n",
            "Integer: 5\n",
            "Float: 5.0\n",
            "Boolean: True\n"
          ]
        }
      ]
    },
    {
      "cell_type": "code",
      "source": [
        "#Q10. Write code to demonstrate type casting with list elements.\n",
        "\n",
        "lst = [\"1\", \"2\", \"3\"]               # here all the elements in the list are string\n",
        "\n",
        "lst_int = int(lst[0])               # first element of the string is changed into integer value\n",
        "lst_float = float(lst[1])           # second element of the string is changed into float value\n",
        "lst_bool = bool(lst[2])             # third element of the string is changed into boolean value\n",
        "\n",
        "print(lst_int, lst_float, lst_bool)\n"
      ],
      "metadata": {
        "colab": {
          "base_uri": "https://localhost:8080/"
        },
        "id": "X39IQxPsR-VJ",
        "outputId": "7f29a937-7cf4-4efd-f17e-9926c21b9daf"
      },
      "execution_count": 30,
      "outputs": [
        {
          "output_type": "stream",
          "name": "stdout",
          "text": [
            "1 2.0 True\n"
          ]
        }
      ]
    },
    {
      "cell_type": "code",
      "source": [
        "#Q11. Write a program that checks if a number is positive, negative, or zero.\n",
        "\n",
        "a = int(input(\"Enter a number: \"))\n",
        "\n",
        "if a > 0:\n",
        "    print(\"The number is positive.\")\n",
        "elif a < 0:\n",
        "    print(\"The number is negative.\")\n",
        "else:\n",
        "    print(\"The number is zero.\")\n"
      ],
      "metadata": {
        "colab": {
          "base_uri": "https://localhost:8080/"
        },
        "id": "ciDtWdIkSAt7",
        "outputId": "96382b22-6a5b-49d0-c383-346750762572"
      },
      "execution_count": 31,
      "outputs": [
        {
          "output_type": "stream",
          "name": "stdout",
          "text": [
            "Enter a number: 5\n",
            "The number is positive.\n"
          ]
        }
      ]
    },
    {
      "cell_type": "code",
      "source": [
        "#Q12. Write a for loop to print numbers from 1 to 10\n",
        "\n",
        "for i in range(1,11):\n",
        "  print(i)"
      ],
      "metadata": {
        "colab": {
          "base_uri": "https://localhost:8080/"
        },
        "id": "EUEz7ZrYUcia",
        "outputId": "2a0eafde-6867-4ece-fb1f-c77fb74cebfc"
      },
      "execution_count": 32,
      "outputs": [
        {
          "output_type": "stream",
          "name": "stdout",
          "text": [
            "1\n",
            "2\n",
            "3\n",
            "4\n",
            "5\n",
            "6\n",
            "7\n",
            "8\n",
            "9\n",
            "10\n"
          ]
        }
      ]
    },
    {
      "cell_type": "code",
      "source": [
        "#Q13. Write a Python program to find the sum of all even numbers between 1 and 50.\n",
        "\n",
        "sum=0\n",
        "for i in range(1,51):\n",
        "  if i%2==0:\n",
        "    sum+=i\n",
        "\n",
        "print(sum)"
      ],
      "metadata": {
        "colab": {
          "base_uri": "https://localhost:8080/"
        },
        "id": "O89yRprjUtYB",
        "outputId": "6f91004d-bafa-4c8f-bfe8-2b17c3d24ddb"
      },
      "execution_count": 38,
      "outputs": [
        {
          "output_type": "stream",
          "name": "stdout",
          "text": [
            "650\n"
          ]
        }
      ]
    },
    {
      "cell_type": "code",
      "source": [
        "#Q14. Write a program to reverse a string using a while loop.\n",
        "\n",
        "text = \"PWSKILLS\"\n",
        "r_text = \"\"\n",
        "index = len(text) - 1\n",
        "\n",
        "while index >= 0:\n",
        "    r_text += text[index]\n",
        "    index -= 1\n",
        "\n",
        "print(r_text)\n"
      ],
      "metadata": {
        "colab": {
          "base_uri": "https://localhost:8080/"
        },
        "id": "HqtX5yqjVUiP",
        "outputId": "5328f8d8-8661-4c8b-eb38-94eea164961e"
      },
      "execution_count": 41,
      "outputs": [
        {
          "output_type": "stream",
          "name": "stdout",
          "text": [
            "SLLIKSWP\n"
          ]
        }
      ]
    },
    {
      "cell_type": "code",
      "source": [
        "#Q15.  Write a Python program to calculate the factorial of a number provided by the user using a while loop.\n",
        "\n",
        "i=int(input(\"enter a number: \"))\n",
        "fact=1\n",
        "while 1<=i:\n",
        "  fact*=i\n",
        "  i-=1\n",
        "print(\"Factorial:\",fact)"
      ],
      "metadata": {
        "colab": {
          "base_uri": "https://localhost:8080/"
        },
        "id": "wFzFG7FzXaeR",
        "outputId": "f66a4bf3-5fce-4294-de56-6be2b6418e46"
      },
      "execution_count": 49,
      "outputs": [
        {
          "output_type": "stream",
          "name": "stdout",
          "text": [
            "enter a number: 5\n",
            "Factorial: 120\n"
          ]
        }
      ]
    },
    {
      "cell_type": "code",
      "source": [],
      "metadata": {
        "id": "KEHB0DxgZgy9"
      },
      "execution_count": null,
      "outputs": []
    }
  ]
}